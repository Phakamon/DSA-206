{
 "cells": [
  {
   "cell_type": "code",
   "execution_count": 1,
   "id": "08737c63",
   "metadata": {},
   "outputs": [],
   "source": [
    "from scipy.stats import norm\n",
    "from numpy import mean\n",
    "from numpy import std"
   ]
  },
  {
   "cell_type": "code",
   "execution_count": 2,
   "id": "e8061b72",
   "metadata": {},
   "outputs": [
    {
     "name": "stdout",
     "output_type": "stream",
     "text": [
      "(100, 2) (100,)\n",
      "[[-0.79415228  2.10495117]\n",
      " [-9.15155186 -4.81286449]\n",
      " [-3.10367371  3.90202401]\n",
      " [-1.42946517  5.16850105]\n",
      " [-7.4693868  -4.20198333]]\n",
      "[0 1 0 0 1]\n"
     ]
    }
   ],
   "source": [
    "# example of generating a small classification dataset\n",
    "from sklearn.datasets import make_blobs\n",
    "\n",
    "#generate 2d classification dataset\n",
    "# X is data and y is label\n",
    "X,y = make_blobs(n_samples = 100, centers = 2, n_features = 2, random_state=1)\n",
    "\n",
    "#summarize\n",
    "print(X.shape, y.shape)\n",
    "print(X[:5])\n",
    "print(y[:5])"
   ]
  },
  {
   "cell_type": "code",
   "execution_count": 3,
   "id": "d9d7b01f",
   "metadata": {},
   "outputs": [],
   "source": [
    "#fit a probability distribution to a univariate data sample \n",
    "def fit_distribution(data):\n",
    "    #estimate parameters\n",
    "    mu = mean(data)\n",
    "    sigma = std(data)\n",
    "    print(mu,sigma)\n",
    "    \n",
    "    #fit distribution\n",
    "    dist = norm(mu,sigma)\n",
    "    \n",
    "    return dist"
   ]
  },
  {
   "cell_type": "code",
   "execution_count": 4,
   "id": "81d91c72",
   "metadata": {},
   "outputs": [
    {
     "name": "stdout",
     "output_type": "stream",
     "text": [
      "(50, 2) (50, 2)\n",
      "0.5 0.5\n",
      "-1.5632888906409914 0.787444265443213\n",
      "4.426680361487157 0.958296071258367\n",
      "-9.681177100524485 0.8943078901048118\n",
      "-3.9713794295185845 0.9308177595208521\n"
     ]
    }
   ],
   "source": [
    "#generate 2d classification dataset\n",
    "X,y = make_blobs(n_samples = 100, centers = 2, n_features = 2, random_state=1)\n",
    "\n",
    "#sort data into classes\n",
    "Xy0 = X[y==0]\n",
    "Xy1 = X[y==1]\n",
    "print(Xy0.shape, Xy1.shape)\n",
    "\n",
    "#calculate the priors\n",
    "priory0 = len(Xy0)/len(X)   #proby0\n",
    "priory1 = len(Xy1)/len(X)   #proby1\n",
    "print(priory0,priory1)\n",
    "\n",
    "#create PDFs for y==0\n",
    "X1y0 = fit_distribution(Xy0[:,0])\n",
    "X2y0 = fit_distribution(Xy0[:,1])\n",
    "\n",
    "#create PDFs for y==1\n",
    "X1y1 = fit_distribution(Xy1[:,0])\n",
    "X2y1 = fit_distribution(Xy1[:,1])"
   ]
  },
  {
   "cell_type": "markdown",
   "id": "166849dd",
   "metadata": {},
   "source": [
    "Example pf preparing and making prediction with a naive bayes model"
   ]
  },
  {
   "cell_type": "code",
   "execution_count": 5,
   "id": "277caef9",
   "metadata": {},
   "outputs": [],
   "source": [
    "from sklearn.datasets import make_blobs\n",
    "from scipy.stats import norm\n",
    "from numpy import mean\n",
    "from numpy import std"
   ]
  },
  {
   "cell_type": "code",
   "execution_count": 6,
   "id": "d6bf6a47",
   "metadata": {},
   "outputs": [],
   "source": [
    "#fit a probability distribution to a univariate data sample \n",
    "def fit_distribution(data):\n",
    "    #estimate parameters\n",
    "    mu = mean(data)\n",
    "    sigma = std(data)\n",
    "    print(mu,sigma)\n",
    "    \n",
    "    #fit distribution\n",
    "    dist = norm(mu,sigma)\n",
    "    \n",
    "    return dist"
   ]
  },
  {
   "cell_type": "code",
   "execution_count": 7,
   "id": "a3db209b",
   "metadata": {},
   "outputs": [],
   "source": [
    "#calculate the independent conditional probability\n",
    "def probabilty(X, prior, dist1, dist2):\n",
    "    return prior * dist1.pdf(X[0]) * dist2.pdf(X[1])"
   ]
  },
  {
   "cell_type": "code",
   "execution_count": 8,
   "id": "8816b6d3",
   "metadata": {},
   "outputs": [
    {
     "name": "stdout",
     "output_type": "stream",
     "text": [
      "(50, 2) (50, 2)\n",
      "0.5 0.5\n",
      "-1.5632888906409914 0.787444265443213\n",
      "4.426680361487157 0.958296071258367\n",
      "-9.681177100524485 0.8943078901048118\n",
      "-3.9713794295185845 0.9308177595208521\n"
     ]
    }
   ],
   "source": [
    "#generate 2d classification dataset\n",
    "X,y = make_blobs(n_samples = 100, centers = 2, n_features = 2, random_state=1)\n",
    "\n",
    "#sort data into classes\n",
    "Xy0 = X[y==0]\n",
    "Xy1 = X[y==1]\n",
    "print(Xy0.shape, Xy1.shape)\n",
    "\n",
    "#calculate the priors\n",
    "priory0 = len(Xy0)/len(X)   #proby0\n",
    "priory1 = len(Xy1)/len(X)   #proby1\n",
    "print(priory0,priory1)\n",
    "\n",
    "#create PDFs for y==0\n",
    "distX1y0 = fit_distribution(Xy0[:,0])\n",
    "distX2y0 = fit_distribution(Xy0[:,1])\n",
    "\n",
    "#create PDFs for y==1\n",
    "distX1y1 = fit_distribution(Xy1[:,0])\n",
    "distX2y1 = fit_distribution(Xy1[:,1])"
   ]
  },
  {
   "cell_type": "code",
   "execution_count": 9,
   "id": "d42bf533",
   "metadata": {},
   "outputs": [
    {
     "name": "stdout",
     "output_type": "stream",
     "text": [
      "P(y=0)| [-0.79415228  2.10495117]) = 0.348\n",
      "P(y=1)| [-0.79415228  2.10495117]) = 0.000\n",
      "Truth: y = 0\n"
     ]
    }
   ],
   "source": [
    "#Classify one example\n",
    "Xsample, ysample = X[0], y[0]\n",
    "py0 = probabilty(Xsample,priory0, distX1y0, distX2y0)\n",
    "py1 = probabilty(Xsample,priory1, distX1y1, distX2y1)\n",
    "\n",
    "print('P(y=0)| %s) = %.3f' % (Xsample, py0*100))\n",
    "print('P(y=1)| %s) = %.3f' % (Xsample, py1*100))\n",
    "print('Truth: y = %d' % ysample)"
   ]
  },
  {
   "cell_type": "markdown",
   "id": "4f4ebc3d",
   "metadata": {},
   "source": [
    "Gaussian Naive Bayes"
   ]
  },
  {
   "cell_type": "code",
   "execution_count": 10,
   "id": "826acead",
   "metadata": {},
   "outputs": [],
   "source": [
    "#Example of guassian naive bayes\n",
    "from sklearn.datasets import make_blobs\n",
    "from sklearn.naive_bayes import GaussianNB"
   ]
  },
  {
   "cell_type": "code",
   "execution_count": 11,
   "id": "8acd2dc5",
   "metadata": {},
   "outputs": [
    {
     "name": "stdout",
     "output_type": "stream",
     "text": [
      "Predicted probablities:  [[1.00000000e+00 5.52387327e-30]]\n",
      "Predicted Class:  [0]\n",
      "Truth: y = 0\n"
     ]
    }
   ],
   "source": [
    "#generate 2d classification dataset\n",
    "X,y = make_blobs(n_samples = 100, centers = 2, n_features = 2, random_state=1)\n",
    "\n",
    "#define model\n",
    "model = GaussianNB()\n",
    "\n",
    "#fit the model\n",
    "model.fit(X,y)\n",
    "\n",
    "#select a single sample\n",
    "Xsample, ysample = [X[0]],y[0]\n",
    "\n",
    "#make probablistic prediction \n",
    "yhat_prob = model.predict_proba(Xsample)\n",
    "print('Predicted probablities: ',yhat_prob)\n",
    "#make classification prediction\n",
    "yhat_class = model.predict(yhat_prob)\n",
    "print('Predicted Class: ', yhat_class)\n",
    "print('Truth: y = %d'%ysample)"
   ]
  },
  {
   "cell_type": "code",
   "execution_count": null,
   "id": "0e4f48bd",
   "metadata": {},
   "outputs": [],
   "source": []
  }
 ],
 "metadata": {
  "kernelspec": {
   "display_name": "Python 3",
   "language": "python",
   "name": "python3"
  },
  "language_info": {
   "codemirror_mode": {
    "name": "ipython",
    "version": 3
   },
   "file_extension": ".py",
   "mimetype": "text/x-python",
   "name": "python",
   "nbconvert_exporter": "python",
   "pygments_lexer": "ipython3",
   "version": "3.7.4"
  }
 },
 "nbformat": 4,
 "nbformat_minor": 5
}
